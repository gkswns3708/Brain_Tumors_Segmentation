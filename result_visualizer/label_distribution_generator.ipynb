{
 "cells": [
  {
   "cell_type": "code",
   "execution_count": null,
   "metadata": {},
   "outputs": [],
   "source": [
    "from glob import glob \n",
    "import os\n",
    "from tqdm import tqdm\n",
    "import numpy as np\n",
    "from collections import Counter\n"
   ]
  },
  {
   "cell_type": "code",
   "execution_count": null,
   "metadata": {},
   "outputs": [],
   "source": [
    "data_records = []  # \"df\" 대신 \"data_records\"로 변경\n",
    "\n",
    "# NIfTI 파일 경로 검색\n",
    "segmentation_file_paths = glob(\n",
    "    os.path.join('/mnt/06.Brats/Brats2023/brats2023/*/*/', '*seg.nii.gz')\n",
    ")\n",
    "\n",
    "# 파일 처리 및 데이터 수집\n",
    "for index, file_path in tqdm(enumerate(segmentation_file_paths)):\n",
    "    nifti_image = load(file_path)  # \"nii_img\" 대신 \"nifti_image\"\n",
    "    patient_id = file_path.split('/')[-2]  # 환자 ID 추출\n",
    "    image_data = nifti_image.get_fdata()  # \"nhii_img\" 대신 \"image_data\"\n",
    "    unique_values, value_counts = np.unique(image_data, return_counts=True)  # \"unique\", \"counts\" 변경\n",
    "    data_records.append({\n",
    "        'file_path': file_path,\n",
    "        'patient_id': patient_id,\n",
    "        'unique_values': unique_values,\n",
    "        'value_counts': value_counts\n",
    "    })"
   ]
  },
  {
   "cell_type": "code",
   "execution_count": null,
   "metadata": {},
   "outputs": [],
   "source": [
    "\n",
    "# 리스트의 각 원소를 frozenset으로 변환해 Counter로 개수 세기\n",
    "def count_combinations(lst):\n",
    "    combinations = [frozenset(arr['unique']) for arr in lst]\n",
    "    return Counter(combinations), combinations\n",
    "\n",
    "# 실행\n",
    "combination_counts, combination = count_combinations(df)\n",
    "print(combination, \"- combination\")\n",
    "# 열 정의\n",
    "columns = [0.0, 1.0, 2.0, 3.0]\n",
    "\n",
    "# 데이터프레임 생성\n",
    "def extract_patient_id(df):\n",
    "    return df['file_path'].split('/')[-2]  # train 폴더 내의 디렉토리 이름 추출\n",
    "\n",
    "# 데이터프레임 생성\n",
    "dataframe = pd.DataFrame(\n",
    "    [\n",
    "        {\n",
    "            'patient_id': extract_patient_id(path),\n",
    "            **{col: (col in data) for col in columns}\n",
    "        }\n",
    "        for data, path in zip(combination, df)\n",
    "    ]\n",
    ")\n",
    "\n",
    "# 결과 출력\n",
    "print(df)"
   ]
  }
 ],
 "metadata": {
  "kernelspec": {
   "display_name": "brats_segmentation",
   "language": "python",
   "name": "python3"
  },
  "language_info": {
   "name": "python",
   "version": "3.9.18"
  }
 },
 "nbformat": 4,
 "nbformat_minor": 2
}
