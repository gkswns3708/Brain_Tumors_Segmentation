{
 "cells": [
  {
   "cell_type": "code",
   "execution_count": 1,
   "metadata": {},
   "outputs": [],
   "source": [
    "import pandas as pd\n",
    "\n",
    "csv_path = \"/mnt/06.Brats/Brain-Tumors-Segmentation/nn-Former_CHJ_practice/csv/test_metrics.csv\"\n",
    "result_df = pd.read_csv(csv_path)"
   ]
  },
  {
   "cell_type": "code",
   "execution_count": 2,
   "metadata": {},
   "outputs": [],
   "source": [
    "# result_df.head()"
   ]
  },
  {
   "cell_type": "code",
   "execution_count": 3,
   "metadata": {},
   "outputs": [
    {
     "name": "stderr",
     "output_type": "stream",
     "text": [
      "0it [00:00, ?it/s]"
     ]
    },
    {
     "name": "stderr",
     "output_type": "stream",
     "text": [
      "6it [00:01,  5.00it/s]"
     ]
    },
    {
     "name": "stdout",
     "output_type": "stream",
     "text": [
      "Idx: 4, Error: BraTS-GLI-00017-001, Missing or Zero Dice for tc, Count: 66343, Dice: 0.0\n"
     ]
    },
    {
     "name": "stderr",
     "output_type": "stream",
     "text": [
      "195it [00:40,  4.78it/s]"
     ]
    },
    {
     "name": "stdout",
     "output_type": "stream",
     "text": [
      "Idx: 194, Error: BraTS-GLI-01484-000, Missing or Zero Dice for et, Count: 135025, Dice: 0.0\n"
     ]
    },
    {
     "name": "stderr",
     "output_type": "stream",
     "text": [
      "196it [00:40,  4.78it/s]"
     ]
    },
    {
     "name": "stdout",
     "output_type": "stream",
     "text": [
      "Idx: 195, Error: BraTS-GLI-01502-000, Missing or Zero Dice for et, Count: 24514, Dice: 0.0\n"
     ]
    },
    {
     "name": "stderr",
     "output_type": "stream",
     "text": [
      "199it [00:40,  4.79it/s]"
     ]
    },
    {
     "name": "stdout",
     "output_type": "stream",
     "text": [
      "Idx: 198, Error: BraTS-GLI-01511-000, Missing or Zero Dice for et, Count: 97103, Dice: 0.0\n"
     ]
    },
    {
     "name": "stderr",
     "output_type": "stream",
     "text": [
      "200it [00:41,  4.79it/s]"
     ]
    },
    {
     "name": "stdout",
     "output_type": "stream",
     "text": [
      "Idx: 199, Error: BraTS-GLI-01515-000, Missing or Zero Dice for et, Count: 93990, Dice: 0.0\n"
     ]
    },
    {
     "name": "stderr",
     "output_type": "stream",
     "text": [
      "201it [00:41,  4.78it/s]"
     ]
    },
    {
     "name": "stdout",
     "output_type": "stream",
     "text": [
      "Idx: 200, Error: BraTS-GLI-01517-000, Missing or Zero Dice for et, Count: 65330, Dice: 0.0\n"
     ]
    },
    {
     "name": "stderr",
     "output_type": "stream",
     "text": [
      "209it [00:42,  4.87it/s]"
     ]
    },
    {
     "name": "stdout",
     "output_type": "stream",
     "text": [
      "Idx: 208, Error: BraTS-GLI-01666-000, Missing or Zero Dice for et, Count: 60126, Dice: 0.0\n"
     ]
    },
    {
     "name": "stderr",
     "output_type": "stream",
     "text": [
      "\n"
     ]
    }
   ],
   "source": [
    "import pandas as pd\n",
    "import nibabel as nib\n",
    "import numpy as np\n",
    "from tqdm import tqdm\n",
    "\n",
    "# 예시 DataFrame (result_df)\n",
    "# result_df = pd.read_csv('path_to_csv')  # 실제 CSV 파일 로드\n",
    "\n",
    "# Label 매핑\n",
    "num2label = {0: 'bg', 1: 'et', 2: 'tc', 3: 'wt'}\n",
    "\n",
    "# 각 row 처리\n",
    "for idx, row in tqdm(result_df.iterrows()):\n",
    "    # ID와 파일 경로\n",
    "    id = row['id']\n",
    "    label_file = f\"/workspace/brats2023/test/{id}/{id}-seg.nii.gz\"\n",
    "\n",
    "    # NIfTI 파일 로드\n",
    "    label_nii = nib.load(label_file)\n",
    "\n",
    "    # 데이터 배열 추출\n",
    "    label_data = label_nii.get_fdata()\n",
    "\n",
    "    # 고유 레이블 값과 갯수 계산\n",
    "    labels, cnt = np.unique(label_data, return_counts=True)\n",
    "\n",
    "    # 각 레이블 처리\n",
    "    for label, count in zip(labels, cnt):\n",
    "        # 조건 확인\n",
    "        if label != 0 and (count == 0 or row[f'{num2label[label]}_dice'] == 0):\n",
    "            print(f\"Idx: {idx}, Error: {id}, Missing or Zero Dice for {num2label[label]}, Count: {count}, Dice: {row[f'{num2label[label]}_dice']}\")\n",
    "\n"
   ]
  },
  {
   "cell_type": "code",
   "execution_count": 4,
   "metadata": {},
   "outputs": [
    {
     "name": "stderr",
     "output_type": "stream",
     "text": [
      "100%|██████████| 209/209 [00:44<00:00,  4.72it/s]"
     ]
    },
    {
     "name": "stdout",
     "output_type": "stream",
     "text": [
      "                    id   et_dice   tc_dice   wt_dice       et_hd       tc_hd  \\\n",
      "0  BraTS-GLI-00003-000  0.863494  0.943825  0.935477    2.000000    2.828427   \n",
      "1  BraTS-GLI-00009-001  0.801327  0.779964  0.657823    1.732051    2.000000   \n",
      "2  BraTS-GLI-00011-000  0.874294  0.866396  0.910113    2.236068    2.449490   \n",
      "3  BraTS-GLI-00012-000  0.008930  0.846206  0.926860   31.982792   32.206364   \n",
      "4  BraTS-GLI-00017-001  0.000000  0.000000  0.852744  347.000000  347.000000   \n",
      "\n",
      "       wt_hd   et_sens   tc_sens   wt_sens   et_spec   tc_spec   wt_spec  \\\n",
      "0   2.449490  0.940294  0.966165  0.966604  0.997220  0.998363  0.995064   \n",
      "1  26.925823  0.986388  0.989111  0.511823  0.999750  0.999712  0.999437   \n",
      "2   4.000000  0.992730  0.992208  0.880257  0.998754  0.998662  0.998131   \n",
      "3  46.712929  0.912088  0.981383  0.984837  0.991219  0.979235  0.986324   \n",
      "4   6.782330  1.000000  1.000000  0.761168  1.000000  1.000000  0.999429   \n",
      "\n",
      "        bg      et     tc     wt  \n",
      "0  8828761   17214  57773  24252  \n",
      "1  8900909       0  25989   1102  \n",
      "2  8857816      16  60815   9353  \n",
      "3  8664191  171723  91862    224  \n",
      "4  8861657       0  66343      0  \n"
     ]
    },
    {
     "name": "stderr",
     "output_type": "stream",
     "text": [
      "\n"
     ]
    }
   ],
   "source": [
    "import pandas as pd\n",
    "import nibabel as nib\n",
    "import numpy as np\n",
    "from tqdm import tqdm\n",
    "\n",
    "csv_path = \"/mnt/06.Brats/Brain-Tumors-Segmentation/nn-Former_CHJ_practice/csv/test_metrics.csv\"\n",
    "result_df = pd.read_csv(csv_path)\n",
    "# Label 매핑\n",
    "num2label = {0: 'bg', 1: 'et', 2: 'tc', 3: 'wt'}\n",
    "\n",
    "# 각 row 처리\n",
    "voxel_counts = []  # 모든 voxel count 데이터를 저장할 리스트\n",
    "\n",
    "for idx, row in tqdm(result_df.iterrows(), total=result_df.shape[0]):\n",
    "    # ID와 파일 경로\n",
    "    id = row['id']\n",
    "    label_file = f\"/workspace/brats2023/test/{id}/{id}-seg.nii.gz\"\n",
    "\n",
    "    try:\n",
    "        # NIfTI 파일 로드\n",
    "        label_nii = nib.load(label_file)\n",
    "\n",
    "        # 데이터 배열 추출\n",
    "        label_data = label_nii.get_fdata()\n",
    "\n",
    "        # 고유 레이블 값과 갯수 계산\n",
    "        labels, cnt = np.unique(label_data, return_counts=True)\n",
    "\n",
    "        # 각 레이블 voxel 갯수를 저장\n",
    "        voxel_count = {num2label.get(label, f'label_{label}'): count for label, count in zip(labels, cnt)}\n",
    "\n",
    "        # 누락된 레이블은 0으로 설정\n",
    "        for label_name in num2label.values():\n",
    "            if label_name not in voxel_count:\n",
    "                voxel_count[label_name] = 0\n",
    "\n",
    "        voxel_counts.append(voxel_count)\n",
    "\n",
    "    except Exception as e:\n",
    "        print(f\"Error processing file {label_file}: {e}\")\n",
    "        voxel_counts.append({label_name: 0 for label_name in num2label.values()})  # 에러 발생 시 0으로 초기화\n",
    "\n",
    "# DataFrame에 voxel 갯수 추가\n",
    "voxel_counts_df = pd.DataFrame(voxel_counts)\n",
    "result_df = pd.concat([result_df, voxel_counts_df], axis=1)\n",
    "\n",
    "# 결과 확인\n",
    "print(result_df.head())\n"
   ]
  },
  {
   "cell_type": "code",
   "execution_count": 5,
   "metadata": {},
   "outputs": [],
   "source": [
    "# result_df.head()"
   ]
  },
  {
   "cell_type": "code",
   "execution_count": 6,
   "metadata": {},
   "outputs": [],
   "source": [
    "import pandas as pd\n",
    "import nibabel as nib\n",
    "import numpy as np\n",
    "from tqdm import tqdm\n",
    "from scipy.spatial.distance import directed_hausdorff\n",
    "\n",
    "csv_path = \"/mnt/06.Brats/Brain-Tumors-Segmentation/nn-Former_CHJ_practice/csv/test_metrics.csv\"\n",
    "result_df = pd.read_csv(csv_path)\n",
    "\n",
    "prediction_base_path = \"/mnt/06.Brats/Brain_Tumors_Segmentation/stored_prediction/nn_former\"\n",
    "label_base_path = \"/workspace/brats2023/test\"\n",
    "\n",
    "# Dice Coefficient 계산 함수\n",
    "def dice_coefficient(y_true, y_pred):\n",
    "    intersection = np.sum((y_true > 0) & (y_pred > 0))\n",
    "    sum_gt_pred = np.sum(y_true > 0) + np.sum(y_pred > 0)\n",
    "    if sum_gt_pred == 0:\n",
    "        return 0.0  # Avoid division by zero\n",
    "    return (2.0 * intersection) / sum_gt_pred\n",
    "\n",
    "# Hausdorff95 Distance 계산 함수\n",
    "def hausdorff95(y_true, y_pred):\n",
    "    coords_true = np.argwhere(y_true > 0)\n",
    "    coords_pred = np.argwhere(y_pred > 0)\n",
    "    if coords_true.size == 0 or coords_pred.size == 0:\n",
    "        return np.inf\n",
    "    forward_hd = directed_hausdorff(coords_true, coords_pred)[0]\n",
    "    reverse_hd = directed_hausdorff(coords_pred, coords_true)[0]\n",
    "    return max(forward_hd, reverse_hd)\n",
    "\n",
    "# Sensitivity 계산 함수\n",
    "def sensitivity(y_true, y_pred):\n",
    "    true_positive = np.sum((y_true > 0) & (y_pred > 0))\n",
    "    false_negative = np.sum((y_true > 0) & (y_pred == 0))\n",
    "    if true_positive + false_negative == 0:\n",
    "        return 0.0\n",
    "    return true_positive / (true_positive + false_negative)\n",
    "\n",
    "# Specificity 계산 함수\n",
    "def specificity(y_true, y_pred):\n",
    "    true_negative = np.sum((y_true == 0) & (y_pred == 0))\n",
    "    false_positive = np.sum((y_true == 0) & (y_pred > 0))\n",
    "    if true_negative + false_positive == 0:\n",
    "        return 0.0\n",
    "    return true_negative / (true_negative + false_positive)\n",
    "\n",
    "# 결과 저장 리스트\n",
    "metrics = []\n"
   ]
  },
  {
   "cell_type": "code",
   "execution_count": 7,
   "metadata": {},
   "outputs": [
    {
     "name": "stderr",
     "output_type": "stream",
     "text": [
      "  1%|          | 2/209 [00:00<00:26,  7.67it/s]"
     ]
    },
    {
     "name": "stdout",
     "output_type": "stream",
     "text": [
      "Error processing BraTS-GLI-00003-000: operands could not be broadcast together with shapes (240,240,155) (3,128,128,128) \n",
      "Error processing BraTS-GLI-00009-001: operands could not be broadcast together with shapes (240,240,155) (3,128,128,128) \n"
     ]
    },
    {
     "name": "stderr",
     "output_type": "stream",
     "text": [
      "  2%|▏         | 4/209 [00:00<00:26,  7.70it/s]"
     ]
    },
    {
     "name": "stdout",
     "output_type": "stream",
     "text": [
      "Error processing BraTS-GLI-00011-000: operands could not be broadcast together with shapes (240,240,155) (3,128,128,128) \n",
      "Error processing BraTS-GLI-00012-000: operands could not be broadcast together with shapes (240,240,155) (3,128,128,128) \n"
     ]
    },
    {
     "name": "stderr",
     "output_type": "stream",
     "text": [
      "  3%|▎         | 6/209 [00:00<00:26,  7.74it/s]"
     ]
    },
    {
     "name": "stdout",
     "output_type": "stream",
     "text": [
      "Error processing BraTS-GLI-00017-001: operands could not be broadcast together with shapes (240,240,155) (3,128,128,128) \n",
      "Error processing BraTS-GLI-00021-001: operands could not be broadcast together with shapes (240,240,155) (3,128,128,128) \n"
     ]
    },
    {
     "name": "stderr",
     "output_type": "stream",
     "text": [
      "  4%|▍         | 8/209 [00:01<00:29,  6.78it/s]"
     ]
    },
    {
     "name": "stdout",
     "output_type": "stream",
     "text": [
      "Error processing BraTS-GLI-00022-000: operands could not be broadcast together with shapes (240,240,155) (3,128,128,128) \n",
      "Error processing BraTS-GLI-00026-000: operands could not be broadcast together with shapes (240,240,155) (3,128,128,128) \n"
     ]
    },
    {
     "name": "stderr",
     "output_type": "stream",
     "text": [
      "  5%|▍         | 10/209 [00:01<00:26,  7.63it/s]"
     ]
    },
    {
     "name": "stdout",
     "output_type": "stream",
     "text": [
      "Error processing BraTS-GLI-00068-000: operands could not be broadcast together with shapes (240,240,155) (3,127,128,128) \n",
      "Error processing BraTS-GLI-00077-000: operands could not be broadcast together with shapes (240,240,155) (3,128,128,128) \n"
     ]
    },
    {
     "name": "stderr",
     "output_type": "stream",
     "text": [
      "  6%|▌         | 12/209 [00:01<00:24,  7.99it/s]"
     ]
    },
    {
     "name": "stdout",
     "output_type": "stream",
     "text": [
      "Error processing BraTS-GLI-00078-000: operands could not be broadcast together with shapes (240,240,155) (3,128,128,128) \n",
      "Error processing BraTS-GLI-00088-000: operands could not be broadcast together with shapes (240,240,155) (3,126,128,128) \n"
     ]
    },
    {
     "name": "stderr",
     "output_type": "stream",
     "text": [
      "  7%|▋         | 14/209 [00:01<00:24,  7.90it/s]"
     ]
    },
    {
     "name": "stdout",
     "output_type": "stream",
     "text": [
      "Error processing BraTS-GLI-00094-000: operands could not be broadcast together with shapes (240,240,155) (3,128,128,128) \n",
      "Error processing BraTS-GLI-00097-001: operands could not be broadcast together with shapes (240,240,155) (3,128,128,128) \n"
     ]
    },
    {
     "name": "stderr",
     "output_type": "stream",
     "text": [
      "  8%|▊         | 16/209 [00:02<00:24,  7.84it/s]"
     ]
    },
    {
     "name": "stdout",
     "output_type": "stream",
     "text": [
      "Error processing BraTS-GLI-00099-000: operands could not be broadcast together with shapes (240,240,155) (3,128,128,128) \n",
      "Error processing BraTS-GLI-00126-000: operands could not be broadcast together with shapes (240,240,155) (3,128,128,128) \n"
     ]
    },
    {
     "name": "stderr",
     "output_type": "stream",
     "text": [
      "  9%|▊         | 18/209 [00:02<00:24,  7.77it/s]"
     ]
    },
    {
     "name": "stdout",
     "output_type": "stream",
     "text": [
      "Error processing BraTS-GLI-00157-000: operands could not be broadcast together with shapes (240,240,155) (3,128,128,128) \n",
      "Error processing BraTS-GLI-00158-000: operands could not be broadcast together with shapes (240,240,155) (3,128,128,128) \n"
     ]
    },
    {
     "name": "stderr",
     "output_type": "stream",
     "text": [
      " 10%|▉         | 20/209 [00:02<00:26,  7.01it/s]"
     ]
    },
    {
     "name": "stdout",
     "output_type": "stream",
     "text": [
      "Error processing BraTS-GLI-00159-000: operands could not be broadcast together with shapes (240,240,155) (3,128,128,128) \n",
      "Error processing BraTS-GLI-00184-000: operands could not be broadcast together with shapes (240,240,155) (3,128,128,128) \n"
     ]
    },
    {
     "name": "stderr",
     "output_type": "stream",
     "text": [
      " 11%|█         | 22/209 [00:02<00:25,  7.34it/s]"
     ]
    },
    {
     "name": "stdout",
     "output_type": "stream",
     "text": [
      "Error processing BraTS-GLI-00187-000: operands could not be broadcast together with shapes (240,240,155) (3,128,128,128) \n",
      "Error processing BraTS-GLI-00188-000: operands could not be broadcast together with shapes (240,240,155) (3,128,128,128) \n"
     ]
    },
    {
     "name": "stderr",
     "output_type": "stream",
     "text": [
      " 11%|█▏        | 24/209 [00:03<00:26,  7.04it/s]"
     ]
    },
    {
     "name": "stdout",
     "output_type": "stream",
     "text": [
      "Error processing BraTS-GLI-00193-000: operands could not be broadcast together with shapes (240,240,155) (3,128,128,128) \n",
      "Error processing BraTS-GLI-00207-000: operands could not be broadcast together with shapes (240,240,155) (3,128,128,128) \n"
     ]
    },
    {
     "name": "stderr",
     "output_type": "stream",
     "text": [
      " 12%|█▏        | 26/209 [00:03<00:24,  7.35it/s]"
     ]
    },
    {
     "name": "stdout",
     "output_type": "stream",
     "text": [
      "Error processing BraTS-GLI-00214-000: operands could not be broadcast together with shapes (240,240,155) (3,128,128,128) \n",
      "Error processing BraTS-GLI-00217-000: operands could not be broadcast together with shapes (240,240,155) (3,128,128,128) \n"
     ]
    },
    {
     "name": "stderr",
     "output_type": "stream",
     "text": [
      " 13%|█▎        | 28/209 [00:03<00:25,  6.99it/s]"
     ]
    },
    {
     "name": "stdout",
     "output_type": "stream",
     "text": [
      "Error processing BraTS-GLI-00237-000: operands could not be broadcast together with shapes (240,240,155) (3,128,128,128) \n",
      "Error processing BraTS-GLI-00239-000: operands could not be broadcast together with shapes (240,240,155) (3,128,128,128) \n"
     ]
    },
    {
     "name": "stderr",
     "output_type": "stream",
     "text": [
      " 14%|█▍        | 30/209 [00:04<00:25,  7.01it/s]"
     ]
    },
    {
     "name": "stdout",
     "output_type": "stream",
     "text": [
      "Error processing BraTS-GLI-00240-000: operands could not be broadcast together with shapes (240,240,155) (3,128,128,128) \n",
      "Error processing BraTS-GLI-00243-000: operands could not be broadcast together with shapes (240,240,155) (3,128,128,128) \n"
     ]
    },
    {
     "name": "stderr",
     "output_type": "stream",
     "text": [
      " 15%|█▌        | 32/209 [00:04<00:24,  7.34it/s]"
     ]
    },
    {
     "name": "stdout",
     "output_type": "stream",
     "text": [
      "Error processing BraTS-GLI-00247-000: operands could not be broadcast together with shapes (240,240,155) (3,128,128,128) \n",
      "Error processing BraTS-GLI-00258-000: operands could not be broadcast together with shapes (240,240,155) (3,128,128,128) \n"
     ]
    },
    {
     "name": "stderr",
     "output_type": "stream",
     "text": [
      " 16%|█▋        | 34/209 [00:04<00:23,  7.36it/s]"
     ]
    },
    {
     "name": "stdout",
     "output_type": "stream",
     "text": [
      "Error processing BraTS-GLI-00263-000: operands could not be broadcast together with shapes (240,240,155) (3,128,128,128) \n",
      "Error processing BraTS-GLI-00267-000: operands could not be broadcast together with shapes (240,240,155) (3,128,128,128) \n"
     ]
    },
    {
     "name": "stderr",
     "output_type": "stream",
     "text": [
      " 17%|█▋        | 36/209 [00:04<00:22,  7.56it/s]"
     ]
    },
    {
     "name": "stdout",
     "output_type": "stream",
     "text": [
      "Error processing BraTS-GLI-00282-000: operands could not be broadcast together with shapes (240,240,155) (3,128,128,128) \n",
      "Error processing BraTS-GLI-00283-000: operands could not be broadcast together with shapes (240,240,155) (3,128,128,128) \n"
     ]
    },
    {
     "name": "stderr",
     "output_type": "stream",
     "text": [
      " 18%|█▊        | 38/209 [00:05<00:23,  7.17it/s]"
     ]
    },
    {
     "name": "stdout",
     "output_type": "stream",
     "text": [
      "Error processing BraTS-GLI-00288-000: operands could not be broadcast together with shapes (240,240,155) (3,128,128,128) \n",
      "Error processing BraTS-GLI-00297-000: operands could not be broadcast together with shapes (240,240,155) (3,128,128,128) \n"
     ]
    },
    {
     "name": "stderr",
     "output_type": "stream",
     "text": [
      " 19%|█▉        | 40/209 [00:05<00:22,  7.46it/s]"
     ]
    },
    {
     "name": "stdout",
     "output_type": "stream",
     "text": [
      "Error processing BraTS-GLI-00305-000: operands could not be broadcast together with shapes (240,240,155) (3,128,128,128) \n",
      "Error processing BraTS-GLI-00328-000: operands could not be broadcast together with shapes (240,240,155) (3,128,128,128) \n"
     ]
    },
    {
     "name": "stderr",
     "output_type": "stream",
     "text": [
      " 20%|██        | 42/209 [00:05<00:21,  7.62it/s]"
     ]
    },
    {
     "name": "stdout",
     "output_type": "stream",
     "text": [
      "Error processing BraTS-GLI-00340-000: operands could not be broadcast together with shapes (240,240,155) (3,128,128,128) \n",
      "Error processing BraTS-GLI-00341-000: operands could not be broadcast together with shapes (240,240,155) (3,128,128,128) \n"
     ]
    },
    {
     "name": "stderr",
     "output_type": "stream",
     "text": [
      " 21%|██        | 44/209 [00:05<00:21,  7.67it/s]"
     ]
    },
    {
     "name": "stdout",
     "output_type": "stream",
     "text": [
      "Error processing BraTS-GLI-00346-000: operands could not be broadcast together with shapes (240,240,155) (3,128,128,128) \n",
      "Error processing BraTS-GLI-00356-000: operands could not be broadcast together with shapes (240,240,155) (3,128,128,128) \n"
     ]
    },
    {
     "name": "stderr",
     "output_type": "stream",
     "text": [
      " 22%|██▏       | 46/209 [00:06<00:21,  7.71it/s]"
     ]
    },
    {
     "name": "stdout",
     "output_type": "stream",
     "text": [
      "Error processing BraTS-GLI-00364-000: operands could not be broadcast together with shapes (240,240,155) (3,128,128,128) \n",
      "Error processing BraTS-GLI-00369-000: operands could not be broadcast together with shapes (240,240,155) (3,128,128,128) \n"
     ]
    },
    {
     "name": "stderr",
     "output_type": "stream",
     "text": [
      " 23%|██▎       | 48/209 [00:06<00:20,  7.75it/s]"
     ]
    },
    {
     "name": "stdout",
     "output_type": "stream",
     "text": [
      "Error processing BraTS-GLI-00373-000: operands could not be broadcast together with shapes (240,240,155) (3,128,128,128) \n",
      "Error processing BraTS-GLI-00387-000: operands could not be broadcast together with shapes (240,240,155) (3,128,128,128) \n"
     ]
    },
    {
     "name": "stderr",
     "output_type": "stream",
     "text": [
      " 24%|██▍       | 50/209 [00:06<00:20,  7.75it/s]"
     ]
    },
    {
     "name": "stdout",
     "output_type": "stream",
     "text": [
      "Error processing BraTS-GLI-00389-000: operands could not be broadcast together with shapes (240,240,155) (3,128,128,128) \n",
      "Error processing BraTS-GLI-00390-000: operands could not be broadcast together with shapes (240,240,155) (3,128,128,128) \n"
     ]
    },
    {
     "name": "stderr",
     "output_type": "stream",
     "text": [
      " 25%|██▍       | 52/209 [00:06<00:20,  7.50it/s]"
     ]
    },
    {
     "name": "stdout",
     "output_type": "stream",
     "text": [
      "Error processing BraTS-GLI-00391-000: operands could not be broadcast together with shapes (240,240,155) (3,128,128,128) \n",
      "Error processing BraTS-GLI-00401-000: operands could not be broadcast together with shapes (240,240,155) (3,128,128,128) \n"
     ]
    },
    {
     "name": "stderr",
     "output_type": "stream",
     "text": [
      " 26%|██▌       | 54/209 [00:07<00:20,  7.48it/s]"
     ]
    },
    {
     "name": "stdout",
     "output_type": "stream",
     "text": [
      "Error processing BraTS-GLI-00406-000: operands could not be broadcast together with shapes (240,240,155) (3,128,128,128) \n",
      "Error processing BraTS-GLI-00410-000: operands could not be broadcast together with shapes (240,240,155) (3,128,128,128) \n"
     ]
    },
    {
     "name": "stderr",
     "output_type": "stream",
     "text": [
      " 27%|██▋       | 56/209 [00:07<00:20,  7.54it/s]"
     ]
    },
    {
     "name": "stdout",
     "output_type": "stream",
     "text": [
      "Error processing BraTS-GLI-00433-000: operands could not be broadcast together with shapes (240,240,155) (3,128,128,128) \n",
      "Error processing BraTS-GLI-00464-000: operands could not be broadcast together with shapes (240,240,155) (3,128,128,128) \n"
     ]
    },
    {
     "name": "stderr",
     "output_type": "stream",
     "text": [
      " 28%|██▊       | 58/209 [00:07<00:19,  7.61it/s]"
     ]
    },
    {
     "name": "stdout",
     "output_type": "stream",
     "text": [
      "Error processing BraTS-GLI-00466-000: operands could not be broadcast together with shapes (240,240,155) (3,128,128,128) \n",
      "Error processing BraTS-GLI-00472-000: operands could not be broadcast together with shapes (240,240,155) (3,128,128,128) \n"
     ]
    },
    {
     "name": "stderr",
     "output_type": "stream",
     "text": [
      " 29%|██▊       | 60/209 [00:08<00:19,  7.66it/s]"
     ]
    },
    {
     "name": "stdout",
     "output_type": "stream",
     "text": [
      "Error processing BraTS-GLI-00477-000: operands could not be broadcast together with shapes (240,240,155) (3,128,128,128) \n",
      "Error processing BraTS-GLI-00480-000: operands could not be broadcast together with shapes (240,240,155) (3,128,128,128) \n"
     ]
    },
    {
     "name": "stderr",
     "output_type": "stream",
     "text": [
      " 30%|██▉       | 62/209 [00:08<00:20,  7.17it/s]"
     ]
    },
    {
     "name": "stdout",
     "output_type": "stream",
     "text": [
      "Error processing BraTS-GLI-00480-001: operands could not be broadcast together with shapes (240,240,155) (3,128,128,128) \n",
      "Error processing BraTS-GLI-00498-000: operands could not be broadcast together with shapes (240,240,155) (3,128,128,128) \n"
     ]
    },
    {
     "name": "stderr",
     "output_type": "stream",
     "text": [
      " 31%|███       | 64/209 [00:08<00:19,  7.49it/s]"
     ]
    },
    {
     "name": "stdout",
     "output_type": "stream",
     "text": [
      "Error processing BraTS-GLI-00504-000: operands could not be broadcast together with shapes (240,240,155) (3,128,128,128) \n",
      "Error processing BraTS-GLI-00512-000: operands could not be broadcast together with shapes (240,240,155) (3,128,128,128) \n"
     ]
    },
    {
     "name": "stderr",
     "output_type": "stream",
     "text": [
      " 31%|███       | 65/209 [00:08<00:19,  7.38it/s]"
     ]
    },
    {
     "name": "stdout",
     "output_type": "stream",
     "text": [
      "Error processing BraTS-GLI-00516-000: operands could not be broadcast together with shapes (240,240,155) (3,128,128,128) \n"
     ]
    },
    {
     "name": "stderr",
     "output_type": "stream",
     "text": [
      "\n"
     ]
    },
    {
     "ename": "KeyboardInterrupt",
     "evalue": "",
     "output_type": "error",
     "traceback": [
      "\u001b[0;31m---------------------------------------------------------------------------\u001b[0m",
      "\u001b[0;31mKeyboardInterrupt\u001b[0m                         Traceback (most recent call last)",
      "Cell \u001b[0;32mIn[7], line 13\u001b[0m\n\u001b[1;32m     10\u001b[0m label_nii \u001b[38;5;241m=\u001b[39m nib\u001b[38;5;241m.\u001b[39mload(label_file)\n\u001b[1;32m     12\u001b[0m pred_data \u001b[38;5;241m=\u001b[39m pred_nii\u001b[38;5;241m.\u001b[39mget_fdata()\n\u001b[0;32m---> 13\u001b[0m label_data \u001b[38;5;241m=\u001b[39m \u001b[43mlabel_nii\u001b[49m\u001b[38;5;241;43m.\u001b[39;49m\u001b[43mget_fdata\u001b[49m\u001b[43m(\u001b[49m\u001b[43m)\u001b[49m\n\u001b[1;32m     15\u001b[0m \u001b[38;5;66;03m# Metric 계산\u001b[39;00m\n\u001b[1;32m     16\u001b[0m dice \u001b[38;5;241m=\u001b[39m dice_coefficient(label_data, pred_data)\n",
      "File \u001b[0;32m~/miniconda3/envs/brats_segmentation/lib/python3.9/site-packages/nibabel/dataobj_images.py:373\u001b[0m, in \u001b[0;36mDataobjImage.get_fdata\u001b[0;34m(self, caching, dtype)\u001b[0m\n\u001b[1;32m    369\u001b[0m         \u001b[38;5;28;01mreturn\u001b[39;00m \u001b[38;5;28mself\u001b[39m\u001b[38;5;241m.\u001b[39m_fdata_cache\n\u001b[1;32m    370\u001b[0m \u001b[38;5;66;03m# Always return requested data type\u001b[39;00m\n\u001b[1;32m    371\u001b[0m \u001b[38;5;66;03m# For array proxies, will attempt to confine data array to dtype\u001b[39;00m\n\u001b[1;32m    372\u001b[0m \u001b[38;5;66;03m# during scaling\u001b[39;00m\n\u001b[0;32m--> 373\u001b[0m data \u001b[38;5;241m=\u001b[39m \u001b[43mnp\u001b[49m\u001b[38;5;241;43m.\u001b[39;49m\u001b[43masanyarray\u001b[49m\u001b[43m(\u001b[49m\u001b[38;5;28;43mself\u001b[39;49m\u001b[38;5;241;43m.\u001b[39;49m\u001b[43m_dataobj\u001b[49m\u001b[43m,\u001b[49m\u001b[43m \u001b[49m\u001b[43mdtype\u001b[49m\u001b[38;5;241;43m=\u001b[39;49m\u001b[43mdtype\u001b[49m\u001b[43m)\u001b[49m\n\u001b[1;32m    374\u001b[0m \u001b[38;5;28;01mif\u001b[39;00m caching \u001b[38;5;241m==\u001b[39m \u001b[38;5;124m'\u001b[39m\u001b[38;5;124mfill\u001b[39m\u001b[38;5;124m'\u001b[39m:\n\u001b[1;32m    375\u001b[0m     \u001b[38;5;28mself\u001b[39m\u001b[38;5;241m.\u001b[39m_fdata_cache \u001b[38;5;241m=\u001b[39m data\n",
      "File \u001b[0;32m~/miniconda3/envs/brats_segmentation/lib/python3.9/site-packages/nibabel/arrayproxy.py:457\u001b[0m, in \u001b[0;36mArrayProxy.__array__\u001b[0;34m(self, dtype)\u001b[0m\n\u001b[1;32m    436\u001b[0m \u001b[38;5;28;01mdef\u001b[39;00m \u001b[38;5;21m__array__\u001b[39m(\u001b[38;5;28mself\u001b[39m, dtype\u001b[38;5;241m=\u001b[39m\u001b[38;5;28;01mNone\u001b[39;00m):\n\u001b[1;32m    437\u001b[0m \u001b[38;5;250m    \u001b[39m\u001b[38;5;124;03m\"\"\"Read data from file and apply scaling, casting to ``dtype``\u001b[39;00m\n\u001b[1;32m    438\u001b[0m \n\u001b[1;32m    439\u001b[0m \u001b[38;5;124;03m    If ``dtype`` is unspecified, the dtype of the returned array is the\u001b[39;00m\n\u001b[0;32m   (...)\u001b[0m\n\u001b[1;32m    455\u001b[0m \u001b[38;5;124;03m        Scaled image data with type `dtype`.\u001b[39;00m\n\u001b[1;32m    456\u001b[0m \u001b[38;5;124;03m    \"\"\"\u001b[39;00m\n\u001b[0;32m--> 457\u001b[0m     arr \u001b[38;5;241m=\u001b[39m \u001b[38;5;28;43mself\u001b[39;49m\u001b[38;5;241;43m.\u001b[39;49m\u001b[43m_get_scaled\u001b[49m\u001b[43m(\u001b[49m\u001b[43mdtype\u001b[49m\u001b[38;5;241;43m=\u001b[39;49m\u001b[43mdtype\u001b[49m\u001b[43m,\u001b[49m\u001b[43m \u001b[49m\u001b[43mslicer\u001b[49m\u001b[38;5;241;43m=\u001b[39;49m\u001b[43m(\u001b[49m\u001b[43m)\u001b[49m\u001b[43m)\u001b[49m\n\u001b[1;32m    458\u001b[0m     \u001b[38;5;28;01mif\u001b[39;00m dtype \u001b[38;5;129;01mis\u001b[39;00m \u001b[38;5;129;01mnot\u001b[39;00m \u001b[38;5;28;01mNone\u001b[39;00m:\n\u001b[1;32m    459\u001b[0m         arr \u001b[38;5;241m=\u001b[39m arr\u001b[38;5;241m.\u001b[39mastype(dtype, copy\u001b[38;5;241m=\u001b[39m\u001b[38;5;28;01mFalse\u001b[39;00m)\n",
      "\u001b[0;31mKeyboardInterrupt\u001b[0m: "
     ]
    }
   ],
   "source": [
    "# 각 ID에 대해 계산\n",
    "for idx, row in tqdm(result_df.iterrows(), total=result_df.shape[0]):\n",
    "    id = row['id']\n",
    "    prediction_file = f\"{prediction_base_path}/{id}.nii.gz\"\n",
    "    label_file = f\"{label_base_path}/{id}/{id}-seg.nii.gz\"\n",
    "\n",
    "    try:\n",
    "        # Prediction 및 Label 파일 로드\n",
    "        pred_nii = nib.load(prediction_file)\n",
    "        label_nii = nib.load(label_file)\n",
    "\n",
    "        pred_data = pred_nii.get_fdata()\n",
    "        label_data = label_nii.get_fdata()\n",
    "\n",
    "        # Metric 계산\n",
    "        dice = dice_coefficient(label_data, pred_data)\n",
    "        hd95 = hausdorff95(label_data, pred_data)\n",
    "        sens = sensitivity(label_data, pred_data)\n",
    "        spec = specificity(label_data, pred_data)\n",
    "\n",
    "        # 결과 저장\n",
    "        metrics.append({\n",
    "            \"id\": id,\n",
    "            \"dice\": dice,\n",
    "            \"hausdorff95\": hd95,\n",
    "            \"sensitivity\": sens,\n",
    "            \"specificity\": spec\n",
    "        })\n",
    "\n",
    "    except Exception as e:\n",
    "        print(f\"Error processing {id}: {e}\")\n",
    "        metrics.append({\n",
    "            \"id\": id,\n",
    "            \"dice\": 0,\n",
    "            \"hausdorff95\": np.inf,\n",
    "            \"sensitivity\": 0,\n",
    "            \"specificity\": 0\n",
    "        })\n",
    "\n",
    "# DataFrame 생성\n",
    "metrics_df = pd.DataFrame(metrics)\n",
    "\n",
    "# Mean 값 계산\n",
    "mean_metrics = metrics_df.mean(numeric_only=True)\n",
    "print(\"Mean Metrics:\")\n",
    "print(mean_metrics)\n",
    "\n",
    "# 결과 저장\n",
    "metrics_df.to_csv(\"calculated_metrics.csv\", index=False)"
   ]
  },
  {
   "cell_type": "code",
   "execution_count": null,
   "metadata": {},
   "outputs": [],
   "source": []
  }
 ],
 "metadata": {
  "kernelspec": {
   "display_name": "brats_segmentation",
   "language": "python",
   "name": "python3"
  },
  "language_info": {
   "codemirror_mode": {
    "name": "ipython",
    "version": 3
   },
   "file_extension": ".py",
   "mimetype": "text/x-python",
   "name": "python",
   "nbconvert_exporter": "python",
   "pygments_lexer": "ipython3",
   "version": "3.9.18"
  }
 },
 "nbformat": 4,
 "nbformat_minor": 2
}
