{
 "cells": [
  {
   "cell_type": "code",
   "execution_count": 4,
   "metadata": {},
   "outputs": [],
   "source": [
    "import pandas as pd\n",
    "from tqdm import tqdm\n",
    "\n",
    "csv_path = \"/mnt/06.Brats/Brain_Tumors_Segmentation/result_custom.csv\"\n",
    "result_df = pd.read_csv(csv_path)"
   ]
  },
  {
   "cell_type": "code",
   "execution_count": 2,
   "metadata": {},
   "outputs": [],
   "source": [
    "label_distribution_csv = '/mnt/06.Brats/Brain_Tumors_Segmentation/result_visualizer/label_distribution.csv'\n",
    "label_distribution_df = pd.read_csv(label_distribution_csv)"
   ]
  },
  {
   "cell_type": "code",
   "execution_count": 6,
   "metadata": {},
   "outputs": [
    {
     "data": {
      "text/html": [
       "<div>\n",
       "<style scoped>\n",
       "    .dataframe tbody tr th:only-of-type {\n",
       "        vertical-align: middle;\n",
       "    }\n",
       "\n",
       "    .dataframe tbody tr th {\n",
       "        vertical-align: top;\n",
       "    }\n",
       "\n",
       "    .dataframe thead th {\n",
       "        text-align: right;\n",
       "    }\n",
       "</style>\n",
       "<table border=\"1\" class=\"dataframe\">\n",
       "  <thead>\n",
       "    <tr style=\"text-align: right;\">\n",
       "      <th></th>\n",
       "      <th>patient_id</th>\n",
       "      <th>0.0</th>\n",
       "      <th>1.0</th>\n",
       "      <th>2.0</th>\n",
       "      <th>3.0</th>\n",
       "    </tr>\n",
       "  </thead>\n",
       "  <tbody>\n",
       "    <tr>\n",
       "      <th>0</th>\n",
       "      <td>BraTS-GLI-01238-000</td>\n",
       "      <td>True</td>\n",
       "      <td>True</td>\n",
       "      <td>True</td>\n",
       "      <td>True</td>\n",
       "    </tr>\n",
       "    <tr>\n",
       "      <th>1</th>\n",
       "      <td>BraTS-GLI-01416-000</td>\n",
       "      <td>True</td>\n",
       "      <td>True</td>\n",
       "      <td>True</td>\n",
       "      <td>True</td>\n",
       "    </tr>\n",
       "    <tr>\n",
       "      <th>2</th>\n",
       "      <td>BraTS-GLI-01199-000</td>\n",
       "      <td>True</td>\n",
       "      <td>True</td>\n",
       "      <td>True</td>\n",
       "      <td>True</td>\n",
       "    </tr>\n",
       "    <tr>\n",
       "      <th>3</th>\n",
       "      <td>BraTS-GLI-00537-000</td>\n",
       "      <td>True</td>\n",
       "      <td>True</td>\n",
       "      <td>True</td>\n",
       "      <td>True</td>\n",
       "    </tr>\n",
       "    <tr>\n",
       "      <th>4</th>\n",
       "      <td>BraTS-GLI-00455-000</td>\n",
       "      <td>True</td>\n",
       "      <td>True</td>\n",
       "      <td>True</td>\n",
       "      <td>True</td>\n",
       "    </tr>\n",
       "  </tbody>\n",
       "</table>\n",
       "</div>"
      ],
      "text/plain": [
       "            patient_id   0.0   1.0   2.0   3.0\n",
       "0  BraTS-GLI-01238-000  True  True  True  True\n",
       "1  BraTS-GLI-01416-000  True  True  True  True\n",
       "2  BraTS-GLI-01199-000  True  True  True  True\n",
       "3  BraTS-GLI-00537-000  True  True  True  True\n",
       "4  BraTS-GLI-00455-000  True  True  True  True"
      ]
     },
     "execution_count": 6,
     "metadata": {},
     "output_type": "execute_result"
    }
   ],
   "source": [
    "label_distribution_df.head()"
   ]
  },
  {
   "cell_type": "code",
   "execution_count": 8,
   "metadata": {},
   "outputs": [
    {
     "name": "stdout",
     "output_type": "stream",
     "text": [
      "            patient_id   0.0   1.0   2.0   3.0    et    tc    wt\n",
      "0  BraTS-GLI-01238-000  True  True  True  True  True  True  True\n",
      "1  BraTS-GLI-01416-000  True  True  True  True  True  True  True\n",
      "2  BraTS-GLI-01199-000  True  True  True  True  True  True  True\n",
      "3  BraTS-GLI-00537-000  True  True  True  True  True  True  True\n",
      "4  BraTS-GLI-00455-000  True  True  True  True  True  True  True\n"
     ]
    }
   ],
   "source": [
    "import pandas as pd\n",
    "\n",
    "# CSV 읽기\n",
    "label_distribution_csv = '/mnt/06.Brats/Brain_Tumors_Segmentation/result_visualizer/label_distribution.csv'\n",
    "label_distribution_df = pd.read_csv(label_distribution_csv)\n",
    "\n",
    "# et, tc, wt 계산 함수\n",
    "def calculate_et_tc_wt(row):\n",
    "    et = row['3.0']  # et는 3.0이 True일 때\n",
    "    tc = row['1.0'] or row['3.0']  # tc는 1.0 또는 3.0이 True일 때\n",
    "    wt = tc or row['2.0']  # wt는 tc가 True이거나 2.0이 True일 때\n",
    "    return pd.Series({'et': et, 'tc': tc, 'wt': wt})\n",
    "\n",
    "# et, tc, wt 열 추가\n",
    "label_distribution_df[['et', 'tc', 'wt']] = label_distribution_df.apply(calculate_et_tc_wt, axis=1)\n",
    "label_distribution_df.to_csv(label_distribution_csv, index=False)\n",
    "# 결과 출력\n",
    "print(label_distribution_df.head())\n"
   ]
  },
  {
   "cell_type": "code",
   "execution_count": 10,
   "metadata": {},
   "outputs": [
    {
     "data": {
      "text/plain": [
       "(1251, 1218, 1245, 1251)"
      ]
     },
     "execution_count": 10,
     "metadata": {},
     "output_type": "execute_result"
    }
   ],
   "source": [
    "len(label_distribution_df), label_distribution_df['et'].sum(), label_distribution_df['tc'].sum(), label_distribution_df['wt'].sum()"
   ]
  },
  {
   "cell_type": "code",
   "execution_count": null,
   "metadata": {},
   "outputs": [],
   "source": []
  }
 ],
 "metadata": {
  "kernelspec": {
   "display_name": "brats_segmentation",
   "language": "python",
   "name": "python3"
  },
  "language_info": {
   "codemirror_mode": {
    "name": "ipython",
    "version": 3
   },
   "file_extension": ".py",
   "mimetype": "text/x-python",
   "name": "python",
   "nbconvert_exporter": "python",
   "pygments_lexer": "ipython3",
   "version": "3.9.18"
  }
 },
 "nbformat": 4,
 "nbformat_minor": 2
}
